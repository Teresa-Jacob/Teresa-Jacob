{
 "cells": [
  {
   "cell_type": "code",
   "execution_count": 1,
   "id": "60a18bb3",
   "metadata": {},
   "outputs": [
    {
     "name": "stdout",
     "output_type": "stream",
     "text": [
      "               ID Segment type Segment Description Answer        Count  \\\n",
      "0     292890.8970          web     Meridian, Idaho     No     0.000000   \n",
      "1     292887.9870          web     Meridian, Idaho     No     0.000000   \n",
      "2     292894.0656       gender     Meridian, Idaho     No   499.173606   \n",
      "3     292887.1180          web     Meridian, Idaho     No     0.000000   \n",
      "4     292893.6561       gender     Meridian, Idaho     No   455.925963   \n",
      "...           ...          ...                 ...    ...          ...   \n",
      "1891  292887.5496          web     Meridian, Idaho     No     0.000000   \n",
      "1892  292881.6932       mobile     Meridian, Idaho     No  1203.190399   \n",
      "1893  292900.8499       gender     Meridian, Idaho     No   806.378820   \n",
      "1894  292893.8600       gender     Meridian, Idaho     No  1149.529381   \n",
      "1895  292890.2944          web     Meridian, Idaho     No     0.000000   \n",
      "\n",
      "      Percentage  It became a relationship  \n",
      "0       0.000000                         0  \n",
      "1       0.000000                         0  \n",
      "2       0.225255                         0  \n",
      "3       0.000000                         0  \n",
      "4       0.211360                         0  \n",
      "...          ...                       ...  \n",
      "1891    0.000000                         0  \n",
      "1892    0.312360                         0  \n",
      "1893    0.488025                         0  \n",
      "1894    0.488984                         0  \n",
      "1895    0.000000                         0  \n",
      "\n",
      "[1896 rows x 7 columns]\n"
     ]
    }
   ],
   "source": [
    "import pandas as pd\n",
    "import numpy as np\n",
    "df= pd.read_csv('task2.csv')\n",
    "print(df)\n"
   ]
  },
  {
   "cell_type": "code",
   "execution_count": 23,
   "id": "01da9c91",
   "metadata": {},
   "outputs": [],
   "source": [
    "df=df.replace(to_replace = np.nan, value = 0) \n",
    "df=df.replace(to_replace =\"No\", \n",
    "                            value = 0)\n"
   ]
  },
  {
   "cell_type": "code",
   "execution_count": 27,
   "id": "6c2dc440",
   "metadata": {},
   "outputs": [],
   "source": [
    "df=df.replace(to_replace =\"Yes\", \n",
    "                            value =1)\n",
    "df=df.replace(to_replace =\"I don't use Tinder\", \n",
    "                            value =2)"
   ]
  },
  {
   "cell_type": "code",
   "execution_count": 28,
   "id": "a6798f13",
   "metadata": {},
   "outputs": [],
   "source": [
    "df=df.replace(to_replace =\"web\", \n",
    "                            value =0)\n",
    "df=df.replace(to_replace =\"gender\", \n",
    "                            value =1)\n",
    "df=df.replace(to_replace =\"university\", \n",
    "                            value =2)\n",
    "df=df.replace(to_replace =\"mobile\", \n",
    "                            value =3)\n"
   ]
  },
  {
   "cell_type": "code",
   "execution_count": 26,
   "id": "f9ca612d",
   "metadata": {},
   "outputs": [
    {
     "data": {
      "text/html": [
       "<div>\n",
       "<style scoped>\n",
       "    .dataframe tbody tr th:only-of-type {\n",
       "        vertical-align: middle;\n",
       "    }\n",
       "\n",
       "    .dataframe tbody tr th {\n",
       "        vertical-align: top;\n",
       "    }\n",
       "\n",
       "    .dataframe thead th {\n",
       "        text-align: right;\n",
       "    }\n",
       "</style>\n",
       "<table border=\"1\" class=\"dataframe\">\n",
       "  <thead>\n",
       "    <tr style=\"text-align: right;\">\n",
       "      <th></th>\n",
       "      <th>ID</th>\n",
       "      <th>Segment type</th>\n",
       "      <th>Segment Description</th>\n",
       "      <th>Answer</th>\n",
       "      <th>Count</th>\n",
       "      <th>Percentage</th>\n",
       "      <th>It became a relationship</th>\n",
       "    </tr>\n",
       "  </thead>\n",
       "  <tbody>\n",
       "    <tr>\n",
       "      <th>0</th>\n",
       "      <td>292890.8970</td>\n",
       "      <td>0</td>\n",
       "      <td>Meridian, Idaho</td>\n",
       "      <td>0</td>\n",
       "      <td>0.000000</td>\n",
       "      <td>0.000000</td>\n",
       "      <td>0</td>\n",
       "    </tr>\n",
       "    <tr>\n",
       "      <th>1</th>\n",
       "      <td>292887.9870</td>\n",
       "      <td>0</td>\n",
       "      <td>Meridian, Idaho</td>\n",
       "      <td>0</td>\n",
       "      <td>0.000000</td>\n",
       "      <td>0.000000</td>\n",
       "      <td>0</td>\n",
       "    </tr>\n",
       "    <tr>\n",
       "      <th>2</th>\n",
       "      <td>292894.0656</td>\n",
       "      <td>1</td>\n",
       "      <td>Meridian, Idaho</td>\n",
       "      <td>0</td>\n",
       "      <td>499.173606</td>\n",
       "      <td>0.225255</td>\n",
       "      <td>0</td>\n",
       "    </tr>\n",
       "    <tr>\n",
       "      <th>3</th>\n",
       "      <td>292887.1180</td>\n",
       "      <td>0</td>\n",
       "      <td>Meridian, Idaho</td>\n",
       "      <td>0</td>\n",
       "      <td>0.000000</td>\n",
       "      <td>0.000000</td>\n",
       "      <td>0</td>\n",
       "    </tr>\n",
       "    <tr>\n",
       "      <th>4</th>\n",
       "      <td>292893.6561</td>\n",
       "      <td>1</td>\n",
       "      <td>Meridian, Idaho</td>\n",
       "      <td>0</td>\n",
       "      <td>455.925963</td>\n",
       "      <td>0.211360</td>\n",
       "      <td>0</td>\n",
       "    </tr>\n",
       "  </tbody>\n",
       "</table>\n",
       "</div>"
      ],
      "text/plain": [
       "            ID  Segment type Segment Description Answer       Count  \\\n",
       "0  292890.8970             0     Meridian, Idaho      0    0.000000   \n",
       "1  292887.9870             0     Meridian, Idaho      0    0.000000   \n",
       "2  292894.0656             1     Meridian, Idaho      0  499.173606   \n",
       "3  292887.1180             0     Meridian, Idaho      0    0.000000   \n",
       "4  292893.6561             1     Meridian, Idaho      0  455.925963   \n",
       "\n",
       "   Percentage  It became a relationship  \n",
       "0    0.000000                         0  \n",
       "1    0.000000                         0  \n",
       "2    0.225255                         0  \n",
       "3    0.000000                         0  \n",
       "4    0.211360                         0  "
      ]
     },
     "execution_count": 26,
     "metadata": {},
     "output_type": "execute_result"
    }
   ],
   "source": [
    "df.head()\n"
   ]
  },
  {
   "cell_type": "code",
   "execution_count": null,
   "id": "b5a8f5e0",
   "metadata": {},
   "outputs": [],
   "source": [
    "\n",
    "\n",
    "\n"
   ]
  },
  {
   "cell_type": "code",
   "execution_count": null,
   "id": "aa6da4f2",
   "metadata": {},
   "outputs": [],
   "source": []
  },
  {
   "cell_type": "code",
   "execution_count": 15,
   "id": "9ecc6f41",
   "metadata": {},
   "outputs": [],
   "source": [
    "from sklearn.model_selection import train_test_split"
   ]
  },
  {
   "cell_type": "code",
   "execution_count": null,
   "id": "71798c94",
   "metadata": {},
   "outputs": [],
   "source": []
  },
  {
   "cell_type": "code",
   "execution_count": 37,
   "id": "58995871",
   "metadata": {},
   "outputs": [
    {
     "data": {
      "text/html": [
       "<div>\n",
       "<style scoped>\n",
       "    .dataframe tbody tr th:only-of-type {\n",
       "        vertical-align: middle;\n",
       "    }\n",
       "\n",
       "    .dataframe tbody tr th {\n",
       "        vertical-align: top;\n",
       "    }\n",
       "\n",
       "    .dataframe thead th {\n",
       "        text-align: right;\n",
       "    }\n",
       "</style>\n",
       "<table border=\"1\" class=\"dataframe\">\n",
       "  <thead>\n",
       "    <tr style=\"text-align: right;\">\n",
       "      <th></th>\n",
       "      <th>Segment type</th>\n",
       "      <th>Answer</th>\n",
       "      <th>Count</th>\n",
       "      <th>Percentage</th>\n",
       "    </tr>\n",
       "  </thead>\n",
       "  <tbody>\n",
       "    <tr>\n",
       "      <th>0</th>\n",
       "      <td>0</td>\n",
       "      <td>0</td>\n",
       "      <td>0.000000</td>\n",
       "      <td>0.000000</td>\n",
       "    </tr>\n",
       "    <tr>\n",
       "      <th>1</th>\n",
       "      <td>0</td>\n",
       "      <td>0</td>\n",
       "      <td>0.000000</td>\n",
       "      <td>0.000000</td>\n",
       "    </tr>\n",
       "    <tr>\n",
       "      <th>2</th>\n",
       "      <td>1</td>\n",
       "      <td>0</td>\n",
       "      <td>499.173606</td>\n",
       "      <td>0.225255</td>\n",
       "    </tr>\n",
       "    <tr>\n",
       "      <th>3</th>\n",
       "      <td>0</td>\n",
       "      <td>0</td>\n",
       "      <td>0.000000</td>\n",
       "      <td>0.000000</td>\n",
       "    </tr>\n",
       "    <tr>\n",
       "      <th>4</th>\n",
       "      <td>1</td>\n",
       "      <td>0</td>\n",
       "      <td>455.925963</td>\n",
       "      <td>0.211360</td>\n",
       "    </tr>\n",
       "  </tbody>\n",
       "</table>\n",
       "</div>"
      ],
      "text/plain": [
       "   Segment type  Answer       Count  Percentage\n",
       "0             0       0    0.000000    0.000000\n",
       "1             0       0    0.000000    0.000000\n",
       "2             1       0  499.173606    0.225255\n",
       "3             0       0    0.000000    0.000000\n",
       "4             1       0  455.925963    0.211360"
      ]
     },
     "execution_count": 37,
     "metadata": {},
     "output_type": "execute_result"
    }
   ],
   "source": [
    "X= df.drop(columns=\"It became a relationship\")\n",
    "X= X.drop(columns=\"Segment Description\")\n",
    "X= X.drop(columns=\"ID\")\n",
    "y= df[\"It became a relationship\"]\n",
    "X.head()\n"
   ]
  },
  {
   "cell_type": "code",
   "execution_count": 38,
   "id": "473f6614",
   "metadata": {},
   "outputs": [],
   "source": [
    "X_train, X_test, y_train, y_test =train_test_split(X,y,test_size=0.2)"
   ]
  },
  {
   "cell_type": "code",
   "execution_count": 39,
   "id": "02e6e094",
   "metadata": {},
   "outputs": [
    {
     "data": {
      "text/html": [
       "<div>\n",
       "<style scoped>\n",
       "    .dataframe tbody tr th:only-of-type {\n",
       "        vertical-align: middle;\n",
       "    }\n",
       "\n",
       "    .dataframe tbody tr th {\n",
       "        vertical-align: top;\n",
       "    }\n",
       "\n",
       "    .dataframe thead th {\n",
       "        text-align: right;\n",
       "    }\n",
       "</style>\n",
       "<table border=\"1\" class=\"dataframe\">\n",
       "  <thead>\n",
       "    <tr style=\"text-align: right;\">\n",
       "      <th></th>\n",
       "      <th>Segment type</th>\n",
       "      <th>Answer</th>\n",
       "      <th>Count</th>\n",
       "      <th>Percentage</th>\n",
       "    </tr>\n",
       "  </thead>\n",
       "  <tbody>\n",
       "    <tr>\n",
       "      <th>1003</th>\n",
       "      <td>0</td>\n",
       "      <td>0</td>\n",
       "      <td>0.000000</td>\n",
       "      <td>0.000000</td>\n",
       "    </tr>\n",
       "    <tr>\n",
       "      <th>1288</th>\n",
       "      <td>1</td>\n",
       "      <td>0</td>\n",
       "      <td>1011.455151</td>\n",
       "      <td>0.318027</td>\n",
       "    </tr>\n",
       "    <tr>\n",
       "      <th>1146</th>\n",
       "      <td>3</td>\n",
       "      <td>0</td>\n",
       "      <td>1339.726243</td>\n",
       "      <td>0.347775</td>\n",
       "    </tr>\n",
       "    <tr>\n",
       "      <th>1537</th>\n",
       "      <td>1</td>\n",
       "      <td>0</td>\n",
       "      <td>982.377880</td>\n",
       "      <td>0.340938</td>\n",
       "    </tr>\n",
       "    <tr>\n",
       "      <th>327</th>\n",
       "      <td>1</td>\n",
       "      <td>0</td>\n",
       "      <td>492.598636</td>\n",
       "      <td>0.260751</td>\n",
       "    </tr>\n",
       "    <tr>\n",
       "      <th>...</th>\n",
       "      <td>...</td>\n",
       "      <td>...</td>\n",
       "      <td>...</td>\n",
       "      <td>...</td>\n",
       "    </tr>\n",
       "    <tr>\n",
       "      <th>1681</th>\n",
       "      <td>0</td>\n",
       "      <td>0</td>\n",
       "      <td>0.000000</td>\n",
       "      <td>0.000000</td>\n",
       "    </tr>\n",
       "    <tr>\n",
       "      <th>601</th>\n",
       "      <td>3</td>\n",
       "      <td>0</td>\n",
       "      <td>1831.500397</td>\n",
       "      <td>0.475335</td>\n",
       "    </tr>\n",
       "    <tr>\n",
       "      <th>1852</th>\n",
       "      <td>3</td>\n",
       "      <td>0</td>\n",
       "      <td>1567.719016</td>\n",
       "      <td>0.406913</td>\n",
       "    </tr>\n",
       "    <tr>\n",
       "      <th>1349</th>\n",
       "      <td>1</td>\n",
       "      <td>0</td>\n",
       "      <td>1115.222961</td>\n",
       "      <td>0.429418</td>\n",
       "    </tr>\n",
       "    <tr>\n",
       "      <th>1485</th>\n",
       "      <td>3</td>\n",
       "      <td>0</td>\n",
       "      <td>925.857513</td>\n",
       "      <td>0.396300</td>\n",
       "    </tr>\n",
       "  </tbody>\n",
       "</table>\n",
       "<p>380 rows × 4 columns</p>\n",
       "</div>"
      ],
      "text/plain": [
       "      Segment type  Answer        Count  Percentage\n",
       "1003             0       0     0.000000    0.000000\n",
       "1288             1       0  1011.455151    0.318027\n",
       "1146             3       0  1339.726243    0.347775\n",
       "1537             1       0   982.377880    0.340938\n",
       "327              1       0   492.598636    0.260751\n",
       "...            ...     ...          ...         ...\n",
       "1681             0       0     0.000000    0.000000\n",
       "601              3       0  1831.500397    0.475335\n",
       "1852             3       0  1567.719016    0.406913\n",
       "1349             1       0  1115.222961    0.429418\n",
       "1485             3       0   925.857513    0.396300\n",
       "\n",
       "[380 rows x 4 columns]"
      ]
     },
     "execution_count": 39,
     "metadata": {},
     "output_type": "execute_result"
    }
   ],
   "source": [
    "X_test\n"
   ]
  },
  {
   "cell_type": "code",
   "execution_count": 62,
   "id": "f2fec7db",
   "metadata": {},
   "outputs": [],
   "source": [
    "from sklearn.ensemble import RandomForestClassifier\n",
    "clf=RandomForestClassifier(n_estimators=100)"
   ]
  },
  {
   "cell_type": "code",
   "execution_count": 63,
   "id": "875e0efc",
   "metadata": {},
   "outputs": [
    {
     "data": {
      "text/plain": [
       "RandomForestClassifier()"
      ]
     },
     "execution_count": 63,
     "metadata": {},
     "output_type": "execute_result"
    }
   ],
   "source": [
    "clf.fit(X_train, y_train)"
   ]
  },
  {
   "cell_type": "code",
   "execution_count": 64,
   "id": "53139319",
   "metadata": {},
   "outputs": [
    {
     "data": {
      "text/plain": [
       "array([0, 1, 0, 1, 0, 0, 0, 0, 0, 0, 1, 0, 1, 1, 0, 0, 0, 1, 0, 0, 0, 1,\n",
       "       0, 0, 0, 0, 1, 0, 0, 1, 0, 1, 0, 0, 1, 1, 1, 0, 0, 0, 0, 0, 0, 0,\n",
       "       0, 0, 0, 0, 0, 0, 1, 1, 1, 0, 1, 0, 0, 0, 0, 0, 0, 1, 0, 0, 0, 1,\n",
       "       1, 0, 1, 0, 1, 0, 0, 0, 0, 0, 1, 0, 0, 0, 1, 0, 0, 0, 0, 1, 0, 1,\n",
       "       0, 0, 1, 1, 0, 0, 0, 1, 0, 1, 0, 0, 0, 0, 0, 0, 1, 0, 1, 0, 1, 1,\n",
       "       0, 0, 1, 0, 1, 0, 1, 0, 0, 0, 0, 1, 0, 1, 1, 0, 1, 0, 0, 0, 1, 0,\n",
       "       1, 1, 0, 0, 1, 0, 0, 1, 0, 0, 1, 1, 0, 1, 0, 0, 0, 0, 0, 0, 0, 0,\n",
       "       1, 1, 1, 0, 1, 1, 1, 0, 1, 0, 1, 1, 0, 0, 0, 0, 0, 0, 0, 0, 0, 1,\n",
       "       0, 0, 0, 0, 0, 1, 1, 0, 0, 1, 0, 0, 1, 0, 1, 0, 0, 1, 0, 0, 1, 0,\n",
       "       0, 0, 0, 0, 0, 0, 1, 1, 0, 1, 0, 1, 0, 0, 0, 0, 0, 1, 0, 0, 0, 1,\n",
       "       0, 1, 1, 0, 0, 1, 1, 0, 0, 0, 1, 0, 0, 0, 0, 1, 0, 0, 0, 0, 0, 0,\n",
       "       0, 0, 0, 0, 0, 0, 0, 0, 0, 1, 0, 0, 0, 0, 0, 1, 1, 0, 0, 0, 1, 0,\n",
       "       0, 0, 0, 0, 1, 0, 0, 0, 1, 1, 1, 1, 0, 1, 1, 0, 0, 1, 0, 0, 0, 0,\n",
       "       0, 1, 0, 0, 0, 1, 1, 0, 1, 1, 0, 1, 0, 0, 1, 0, 1, 1, 1, 1, 0, 0,\n",
       "       0, 0, 1, 1, 0, 0, 0, 0, 1, 0, 0, 1, 0, 0, 1, 0, 0, 1, 0, 0, 0, 0,\n",
       "       1, 0, 0, 0, 0, 1, 0, 0, 0, 1, 1, 1, 0, 1, 0, 1, 1, 0, 0, 0, 0, 0,\n",
       "       1, 0, 0, 1, 1, 0, 0, 0, 1, 0, 0, 1, 0, 0, 0, 0, 0, 1, 1, 1, 1, 1,\n",
       "       0, 0, 0, 0, 0, 1], dtype=int64)"
      ]
     },
     "execution_count": 64,
     "metadata": {},
     "output_type": "execute_result"
    }
   ],
   "source": [
    "clf.predict(X_test)"
   ]
  },
  {
   "cell_type": "code",
   "execution_count": 65,
   "id": "e69802f8",
   "metadata": {},
   "outputs": [
    {
     "data": {
      "text/plain": [
       "1003    0\n",
       "1288    1\n",
       "1146    0\n",
       "1537    1\n",
       "327     0\n",
       "       ..\n",
       "1681    0\n",
       "601     0\n",
       "1852    0\n",
       "1349    0\n",
       "1485    1\n",
       "Name: It became a relationship, Length: 380, dtype: int64"
      ]
     },
     "execution_count": 65,
     "metadata": {},
     "output_type": "execute_result"
    }
   ],
   "source": [
    "y_test"
   ]
  },
  {
   "cell_type": "code",
   "execution_count": 66,
   "id": "6c028648",
   "metadata": {},
   "outputs": [
    {
     "data": {
      "text/plain": [
       "0.8947368421052632"
      ]
     },
     "execution_count": 66,
     "metadata": {},
     "output_type": "execute_result"
    }
   ],
   "source": [
    "clf.score(X_test, y_test)"
   ]
  },
  {
   "cell_type": "code",
   "execution_count": 74,
   "id": "8e372aa4",
   "metadata": {},
   "outputs": [
    {
     "name": "stdout",
     "output_type": "stream",
     "text": [
      "{'bootstrap': True, 'ccp_alpha': 0.0, 'class_weight': None, 'criterion': 'gini', 'max_depth': 100, 'max_features': 'auto', 'max_leaf_nodes': None, 'max_samples': None, 'min_impurity_decrease': 0.0, 'min_impurity_split': None, 'min_samples_leaf': 1, 'min_samples_split': 2, 'min_weight_fraction_leaf': 0.0, 'n_estimators': 5, 'n_jobs': None, 'oob_score': False, 'random_state': 42, 'verbose': 0, 'warm_start': False}\n"
     ]
    },
    {
     "data": {
      "text/plain": [
       "0.881578947368421"
      ]
     },
     "execution_count": 74,
     "metadata": {},
     "output_type": "execute_result"
    }
   ],
   "source": [
    "clf=RandomForestClassifier(random_state=42, n_estimators=5,max_depth=100)\n",
    "print(clf.get_params())\n",
    "clf.fit(X_train, y_train)\n",
    "clf.score(X_test, y_test)"
   ]
  },
  {
   "cell_type": "code",
   "execution_count": null,
   "id": "770216de",
   "metadata": {},
   "outputs": [],
   "source": []
  },
  {
   "cell_type": "code",
   "execution_count": 55,
   "id": "84e511a8",
   "metadata": {},
   "outputs": [
    {
     "name": "stdout",
     "output_type": "stream",
     "text": [
      "0.8868421052631579\n"
     ]
    }
   ],
   "source": [
    "from sklearn.neighbors import KNeighborsClassifier\n",
    "knn = KNeighborsClassifier(n_neighbors=1)\n",
    "knn.fit(X_train, y_train)\n",
    "print(knn.score(X_test, y_test))"
   ]
  },
  {
   "cell_type": "code",
   "execution_count": 68,
   "id": "eefcc7fe",
   "metadata": {},
   "outputs": [
    {
     "name": "stdout",
     "output_type": "stream",
     "text": [
      "0.8578947368421053\n"
     ]
    }
   ],
   "source": [
    "knn = KNeighborsClassifier(n_neighbors=10)\n",
    "knn.fit(X_train, y_train)\n",
    "print(knn.score(X_test, y_test))"
   ]
  },
  {
   "cell_type": "code",
   "execution_count": null,
   "id": "74b41066",
   "metadata": {},
   "outputs": [],
   "source": []
  }
 ],
 "metadata": {
  "kernelspec": {
   "display_name": "Python 3",
   "language": "python",
   "name": "python3"
  },
  "language_info": {
   "codemirror_mode": {
    "name": "ipython",
    "version": 3
   },
   "file_extension": ".py",
   "mimetype": "text/x-python",
   "name": "python",
   "nbconvert_exporter": "python",
   "pygments_lexer": "ipython3",
   "version": "3.8.8"
  }
 },
 "nbformat": 4,
 "nbformat_minor": 5
}
